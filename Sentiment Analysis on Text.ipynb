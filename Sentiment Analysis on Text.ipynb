{
 "cells": [
  {
   "cell_type": "code",
   "execution_count": 1,
   "id": "located-editor",
   "metadata": {},
   "outputs": [],
   "source": [
    "from textblob import TextBlob"
   ]
  },
  {
   "cell_type": "code",
   "execution_count": 9,
   "id": "pregnant-journalism",
   "metadata": {},
   "outputs": [
    {
     "name": "stdout",
     "output_type": "stream",
     "text": [
      "Type your sentence:my name is wardah\n",
      "0.0\n",
      "Neutral Sentence\n"
     ]
    }
   ],
   "source": [
    "y = input(\"Type your sentence:\")\n",
    "a = TextBlob(y)\n",
    "x = a.sentiment.polarity\n",
    "print(x)\n",
    "#Negative = x<0, Neutral = x=0, Positive= x>0 && x<=1\n",
    "\n",
    "if (x<0):\n",
    "    print(\"Negative Sentence\")\n",
    "elif (x==0):\n",
    "    print(\"Neutral Sentence\")\n",
    "elif (x>0) and (x<=1):\n",
    "    print(\"Positive Sentence\")"
   ]
  },
  {
   "cell_type": "code",
   "execution_count": null,
   "id": "polish-metro",
   "metadata": {},
   "outputs": [],
   "source": []
  }
 ],
 "metadata": {
  "kernelspec": {
   "display_name": "Python 3",
   "language": "python",
   "name": "python3"
  },
  "language_info": {
   "codemirror_mode": {
    "name": "ipython",
    "version": 3
   },
   "file_extension": ".py",
   "mimetype": "text/x-python",
   "name": "python",
   "nbconvert_exporter": "python",
   "pygments_lexer": "ipython3",
   "version": "3.8.7"
  }
 },
 "nbformat": 4,
 "nbformat_minor": 5
}
